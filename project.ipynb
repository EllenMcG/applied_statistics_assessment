{
 "cells": [
  {
   "cell_type": "markdown",
   "metadata": {},
   "source": [
    "# Project\n",
    "\n",
    "**Project Scope**\n",
    "In this project,the PlantGrowth R dataset will be analyzed. The dataset contains two main variables, a treatment group and the weight of plants within those groups. Your task is to perform t-tests and ANOVA on this dataset while describing the dataset and explaining your work. In doing this you should:\n",
    "> 1) Download and save the dataset (`PlantGrowth.csv`) to your repository.\n",
    "> 2) Describe the data set in your notebook.\n",
    "> 3) Describe what a t-test is, how it works, and what the assumptions are.\n",
    "> 4) Perform a t-test to determine whether there is a significant difference between the two treatment groups `trt1` and `trt2`.\n",
    "> 5) Perform ANOVA to determine whether there is a significant difference between the three treatment groups `ctrl`, `trt1`, and `trt2`.\n",
    "> 6) Explain why it is more appropriate to apply ANOVA rather than several t-tests when analyzing more than two groups."
   ]
  },
  {
   "cell_type": "markdown",
   "metadata": {
    "vscode": {
     "languageId": "plaintext"
    }
   },
   "source": [
    "### Dataset"
   ]
  },
  {
   "cell_type": "code",
   "execution_count": 140,
   "metadata": {},
   "outputs": [],
   "source": [
    "# loading in modules\n",
    "import pandas as pd\n",
    "import numpy as np \n",
    "import matplotlib.pyplot as plt\n",
    "from scipy.stats import f_oneway\n",
    "import statsmodels.api as sm\n",
    "import scipy.stats as stats\n",
    "import seaborn as sns\n",
    "from statsmodels.stats.multicomp import pairwise_tukeyhsd"
   ]
  },
  {
   "cell_type": "code",
   "execution_count": 141,
   "metadata": {},
   "outputs": [
    {
     "name": "stdout",
     "output_type": "stream",
     "text": [
      "(30, 3)\n",
      "   rownames  weight group\n",
      "0         1    4.17  ctrl\n",
      "1         2    5.58  ctrl\n",
      "2         3    5.18  ctrl\n",
      "3         4    6.11  ctrl\n",
      "4         5    4.50  ctrl\n",
      "group\n",
      "ctrl    10\n",
      "trt1    10\n",
      "trt2    10\n",
      "Name: count, dtype: int64\n"
     ]
    }
   ],
   "source": [
    "# loading in dataset\n",
    "data = pd.read_csv('PlantGrowth.csv')\n",
    "print(data.shape)\n",
    "print(data.head())\n",
    "print(data['group'].value_counts())"
   ]
  },
  {
   "cell_type": "markdown",
   "metadata": {},
   "source": [
    "**Decribing the dataset**\n",
    "\n",
    "\n",
    "The dataset, [PlantGrowth R dataset](https://vincentarelbundock.github.io/Rdatasets/index.html) available from RDatasets contains 30 instanes of 2 columns (`weight` as dried weight of plant and `group` showing the group used in the experiment. In the `group` column there are 10 instanees per group (one control and two treatments). The yields of plant growth for two treatment conditions were compared against a control in an experiment. \n",
    "\n",
    "Since there is an index in the dataset, the column rownames is redundant and can be deleted using the drop method. \n",
    "\n",
    "While this dataset is housed within [RDatasets](https://vincentarelbundock.github.io/Rdatasets/doc/datasets/PlantGrowth.html), origionally it was presented in (Dobson, 1983). \n",
    "\n"
   ]
  },
  {
   "cell_type": "code",
   "execution_count": 142,
   "metadata": {},
   "outputs": [
    {
     "name": "stdout",
     "output_type": "stream",
     "text": [
      "   weight group\n",
      "0    4.17  ctrl\n",
      "1    5.58  ctrl\n",
      "2    5.18  ctrl\n",
      "3    6.11  ctrl\n",
      "4    4.50  ctrl\n"
     ]
    }
   ],
   "source": [
    "data.drop('rownames',\n",
    "  axis='columns', inplace=True)\n",
    "\n",
    "print(data.head())\n",
    "# deletion operation was performed correctly "
   ]
  },
  {
   "cell_type": "code",
   "execution_count": null,
   "metadata": {},
   "outputs": [
    {
     "data": {
      "text/html": [
       "<div>\n",
       "<style scoped>\n",
       "    .dataframe tbody tr th:only-of-type {\n",
       "        vertical-align: middle;\n",
       "    }\n",
       "\n",
       "    .dataframe tbody tr th {\n",
       "        vertical-align: top;\n",
       "    }\n",
       "\n",
       "    .dataframe thead tr th {\n",
       "        text-align: left;\n",
       "    }\n",
       "\n",
       "    .dataframe thead tr:last-of-type th {\n",
       "        text-align: right;\n",
       "    }\n",
       "</style>\n",
       "<table border=\"1\" class=\"dataframe\">\n",
       "  <thead>\n",
       "    <tr>\n",
       "      <th></th>\n",
       "      <th colspan=\"8\" halign=\"left\">weight</th>\n",
       "    </tr>\n",
       "    <tr>\n",
       "      <th></th>\n",
       "      <th>count</th>\n",
       "      <th>mean</th>\n",
       "      <th>std</th>\n",
       "      <th>min</th>\n",
       "      <th>25%</th>\n",
       "      <th>50%</th>\n",
       "      <th>75%</th>\n",
       "      <th>max</th>\n",
       "    </tr>\n",
       "    <tr>\n",
       "      <th>group</th>\n",
       "      <th></th>\n",
       "      <th></th>\n",
       "      <th></th>\n",
       "      <th></th>\n",
       "      <th></th>\n",
       "      <th></th>\n",
       "      <th></th>\n",
       "      <th></th>\n",
       "    </tr>\n",
       "  </thead>\n",
       "  <tbody>\n",
       "    <tr>\n",
       "      <th>ctrl</th>\n",
       "      <td>10.0</td>\n",
       "      <td>5.032</td>\n",
       "      <td>0.583091</td>\n",
       "      <td>4.17</td>\n",
       "      <td>4.5500</td>\n",
       "      <td>5.155</td>\n",
       "      <td>5.2925</td>\n",
       "      <td>6.11</td>\n",
       "    </tr>\n",
       "    <tr>\n",
       "      <th>trt1</th>\n",
       "      <td>10.0</td>\n",
       "      <td>4.661</td>\n",
       "      <td>0.793676</td>\n",
       "      <td>3.59</td>\n",
       "      <td>4.2075</td>\n",
       "      <td>4.550</td>\n",
       "      <td>4.8700</td>\n",
       "      <td>6.03</td>\n",
       "    </tr>\n",
       "    <tr>\n",
       "      <th>trt2</th>\n",
       "      <td>10.0</td>\n",
       "      <td>5.526</td>\n",
       "      <td>0.442573</td>\n",
       "      <td>4.92</td>\n",
       "      <td>5.2675</td>\n",
       "      <td>5.435</td>\n",
       "      <td>5.7350</td>\n",
       "      <td>6.31</td>\n",
       "    </tr>\n",
       "  </tbody>\n",
       "</table>\n",
       "</div>"
      ],
      "text/plain": [
       "      weight                                                    \n",
       "       count   mean       std   min     25%    50%     75%   max\n",
       "group                                                           \n",
       "ctrl    10.0  5.032  0.583091  4.17  4.5500  5.155  5.2925  6.11\n",
       "trt1    10.0  4.661  0.793676  3.59  4.2075  4.550  4.8700  6.03\n",
       "trt2    10.0  5.526  0.442573  4.92  5.2675  5.435  5.7350  6.31"
      ]
     },
     "execution_count": 166,
     "metadata": {},
     "output_type": "execute_result"
    }
   ],
   "source": [
    "data.groupby(['group']).describe()\n",
    "# summary statistics "
   ]
  },
  {
   "cell_type": "code",
   "execution_count": 167,
   "metadata": {},
   "outputs": [
    {
     "data": {
      "image/png": "[encoded data removed]",
      "text/plain": [
       "<Figure size 640x480 with 1 Axes>"
      ]
     },
     "metadata": {},
     "output_type": "display_data"
    }
   ],
   "source": [
    "# Initial look at data using a basic boxplot. The boxplot will show the medians (and 1st and 3rd quartile amounst other quartiles)\n",
    "# https://www.datacamp.com/tutorial/python-boxplots\n",
    "\n",
    "#sns.boxplot(x='group', y='weight', data=data)\n",
    "sns.boxplot(x='group', y='weight', data=data);"
   ]
  },
  {
   "cell_type": "markdown",
   "metadata": {},
   "source": [
    "The median of `trt1` is lower than the `ctrl` group while the `trt2` group median is higher than the `ctrl`. From the above boxplot there are two outliers, i.e., data points that are above the inter-quartile range. \n",
    "\n",
    "As the mean and the median (50th quartile above) have a similar value, then this shows that their distribution is normally distrbuted. "
   ]
  },
  {
   "cell_type": "markdown",
   "metadata": {},
   "source": [
    "### The t-test\n",
    "\n",
    "#### What is a t-test?\n",
    "The t-test (or Student's t-test) is a parametric (assumes normal distribution) statistcal test that is used as part of hypothesis test to compare the means of groups, often times for small sample sizes. Developed by [William Sealy Gosset](https://en.wikipedia.org/wiki/William_Sealy_Gosset) (a chemist at Guniness) to analyse yield on small samples under the pseudonym Student in 1908 (Student, 1908). \n",
    "\n",
    "![Photo of William Sealy Gosset](img/William_Sealy_Gosset.jpg)\n",
    "\n",
    "\n",
    "There are several different types of t-test and include;\n",
    "- One sample t-test\n",
    "- Two sample t-test\n",
    "- Paired t-test\n",
    "\n",
    "A summary of which is shown below;\n",
    "\n",
    "\n",
    "**Table 1:** Comparison of t-test (adapted using [JMP](https://www.jmp.com/en_dk/statistics-knowledge-portal/t-test.html) and [Scribber](https://www.scribbr.com/statistics/t-test/))\n",
    "|T-test type   |One sample\t|Two sample\t|Paired\t| \n",
    "|:-------------|:---:|:---:|:---:|\n",
    "|Also known as        |Within subjects\t |Between subjects   |Paired   |\t\n",
    "|Number of variables        |1\t |2   |2   |\t\n",
    "|Variable type\t       |Continuous\t |Continuous, Groups  |Continuous, Groups  |\t\n",
    "|Purpose of test is too...      |Assess if population mean is equal to a specific value or not\t |Assess if the population means for two different groups are equal or not   |Assess if the difference between paired observations for a population is zero or not  |\t\n",
    "|Use test if...     | Machine speed is equal to 175 rpm or not \t |Machine speed for two machines is equal to 175 rpm or not   |Mean difference of machine speed is equal to 175 rpm or not  |\t\n",
    "|Degrees of freedom       |n-1\t |n<sub>1</sub> + n<sub>2</sub> -2  |n (paired observations)-1     |\t\n",
    "\n",
    "\n",
    "\n",
    "The student t-test can only be used for up 2 groups, but if more groups are needed to test, then an ANOVA (Analysis of variance) can be used. The t-test can either be a two-tailed or one-tailed. In the above example of machine speed, the hypothesis for a one sided t-test can be written as (i.e. the alternative hypothesis can be written if we care if the speed is above **OR** below 165 rpm) (see [here](https://www.scribbr.com/statistics/t-test/)); \n",
    "\n",
    "**Null Hypothesis**: H<sub>0</sub>: μd = 165 rpm\\\n",
    "**Alternative Hypothesis**: H<sub>1</sub>: μd < 165 rpm\n",
    "\n",
    "In this case the alternative hypothesis is testing if the machine rpm is < 165 rpm (i.e., one direction of difference). If one didn't care what direction the differnce of the t-test was then a two-sided test can be used (the alternative showing that machine speed does not equal 165 rpm so it can be above or below 165) and is written as;\n",
    "\n",
    "**Null Hypothesis**: H<sub>0</sub>: μd = 165 rpm\\\n",
    "**Alternative Hypothesis**: H<sub>1</sub>: μd ≠ 165 rpm\n",
    "\n",
    "\n",
    "#### How does it work?\n",
    "As part of a t-test, the variability will be calcualted which is then used to determine if the experimental data is statistically significant at the specific alpha value (generally 0.05) (see [here](https://www.graphpad.com/guides/the-ultimate-guide-to-t-tests)). \n",
    "\n",
    "\n",
    "\n",
    "#### What are the assumptions?\n",
    "There are several assummptions for the t-test, some of which are specific to a particular type of t-test. The assumptions of the t-test are;\n",
    "- The data are continuous\n",
    "- The sample has being randomly sampled from the population.\n",
    "- Two groups or less\n",
    "- The variability in each group is similar. \n",
    "- Samples must be independent (in the case of a paired t-test). \n",
    "- Each of the paired measurements must be obtained from the same patient (in the case of a paired t-test).\n",
    "- The distributions are normally distributed.\n",
    "\n",
    "if the assumptions are violeted, then a non-parametric method must be used instead such as the Mann-Whitney U Test (see [here](https://statisticsbyjim.com/hypothesis-testing/nonparametric-parametric-tests/)). \n",
    "\n"
   ]
  },
  {
   "cell_type": "markdown",
   "metadata": {},
   "source": [
    "### T-test between `trt1` and `trt2`\n",
    "\n",
    "Given that there are two groups, and both treatments havn't used the same samples, a two sample t-test would be used in this case. Since we are assessing for a difference we can use a two-sided two sample t-test. In the case of a two sample t-test both the population mean and population standard deviation are estimated from the data (see [here](https://www.jmp.com/en_fi/statistics-knowledge-portal/t-test/two-sample-t-test.html)). \n",
    "\n",
    "The null hypothesis is that the underlying population means are the same whereas the alternative hypothesis is that the means are not equal. The null hypothesis is written as:\\\n",
    "**Null Hypothesis**: H<sub>0</sub>: μd = 165 rpm\\\n",
    "**Alternative Hypothesis**: H<sub>1</sub>: μd ≠ 165 rpm\\"
   ]
  },
  {
   "cell_type": "code",
   "execution_count": 168,
   "metadata": {},
   "outputs": [],
   "source": [
    "# subsetting out trt1 and trt2 for plotting \n",
    "ctrl, trt1, trt2 = data.loc[data['group'] == 'ctrl'], data.loc[data['group'] == 'trt1'], data.loc[data['group'] == 'trt2']"
   ]
  },
  {
   "cell_type": "code",
   "execution_count": 169,
   "metadata": {},
   "outputs": [
    {
     "data": {
      "image/png": "[encoded data removed]",
      "text/plain": [
       "<Figure size 1000x500 with 2 Axes>"
      ]
     },
     "metadata": {},
     "output_type": "display_data"
    }
   ],
   "source": [
    "fig, ax = plt.subplots(1, 2, figsize=(10, 5))\n",
    "fig.suptitle('Test for Normality (Q-Q Plot)')\n",
    "sm.qqplot(trt1['weight'],line='45', fit=True, ax=ax[0])\n",
    "ax[0].set_title('Treatment 1')\n",
    "sm.qqplot(trt2['weight'],line='45', fit=True, ax=ax[1])\n",
    "ax[1].set_title('Treeatment 2')\n",
    "plt.show();"
   ]
  },
  {
   "cell_type": "markdown",
   "metadata": {},
   "source": [
    "The above Q-Q plot shows tha the data are normally distributed. While a statistial test could have being used, given that there is good agreement between the data points and the red line this is sufficient. Note, that while there is good agreement for both treatments there are two datapoints at the upper right tail that are away from the line, but this is considered normal to have some deviation at the tails. As all other assumptions are valid, a t-test can be performed. "
   ]
  },
  {
   "cell_type": "code",
   "execution_count": 170,
   "metadata": {},
   "outputs": [
    {
     "name": "stdout",
     "output_type": "stream",
     "text": [
      "TtestResult(statistic=-3.0100985421243616, pvalue=0.0075184261182198574, df=18.0)\n"
     ]
    }
   ],
   "source": [
    "# The scipy method ttest_ind (two sample t test) was used \n",
    "# https://docs.scipy.org/doc/scipy/reference/generated/scipy.stats.ttest_ind.html\n",
    "t_test = stats.ttest_ind(trt1['weight'], trt2['weight'], alternative='two-sided')\n",
    "print(t_test)"
   ]
  },
  {
   "cell_type": "markdown",
   "metadata": {},
   "source": [
    "The p-value is 0.0075 at 18 degrees of freedom, which is less than the signifiance level (or α or type I error) of 0.05. We have enough evidene to reject the null hypothesis of the test and have sufficient evidence to say that the mean yield of both treatments is different at the 5% signifance level."
   ]
  },
  {
   "cell_type": "markdown",
   "metadata": {},
   "source": [
    "### ANOVA between `ctrl`, `trt1` and `trt2`"
   ]
  },
  {
   "cell_type": "markdown",
   "metadata": {},
   "source": [
    "The null hypothesis (H<sub>0</sub>) is that the mean yield is the same across all groups whilst the alternative hypothesis (H<sub>1</sub>) is at lest one pair of means are different from each other and is written as \n",
    "\n",
    "**Null Hypothesis**: H<sub>0</sub>: μ<sub>1</sub> = μ<sub>2</sub> = μ<sub>3</sub>  \n",
    "**Alternative Hypothesis**: H<sub>1</sub>: At least one mean (μ<sub>i</sub>) is different"
   ]
  },
  {
   "cell_type": "code",
   "execution_count": 171,
   "metadata": {},
   "outputs": [
    {
     "name": "stdout",
     "output_type": "stream",
     "text": [
      "F_onewayResult(statistic=4.846087862380136, pvalue=0.0159099583256229)\n"
     ]
    }
   ],
   "source": [
    "# anova using f_oneway\n",
    "anova = f_oneway(ctrl['weight'], trt1['weight'], trt2['weight'])\n",
    "print(anova)"
   ]
  },
  {
   "cell_type": "markdown",
   "metadata": {},
   "source": [
    "As the p-value < 0.05 this means that the null hypothesis (H<sub>0</sub>) is reject and one must conclude that there is evidence in the data to suggest that the two-week exercise program lowers heart-rate. As one way ANOVA cannot say where the difference is occuring, a post-hoc test needs to be completed to determine where the difference is occuring with a common approach is to use TukeyHSD (Tukey’s Honestly-Significant Difference) post-hoc test."
   ]
  },
  {
   "cell_type": "code",
   "execution_count": 172,
   "metadata": {},
   "outputs": [
    {
     "data": {
      "text/html": [
       "<table class=\"simpletable\">\n",
       "<caption>Multiple Comparison of Means - Tukey HSD, FWER=0.05</caption>\n",
       "<tr>\n",
       "  <th>group1</th> <th>group2</th> <th>meandiff</th>  <th>p-adj</th>  <th>lower</th>   <th>upper</th> <th>reject</th>\n",
       "</tr>\n",
       "<tr>\n",
       "   <td>ctrl</td>   <td>trt1</td>   <td>-0.371</td>  <td>0.3909</td> <td>-1.0622</td> <td>0.3202</td>  <td>False</td>\n",
       "</tr>\n",
       "<tr>\n",
       "   <td>ctrl</td>   <td>trt2</td>    <td>0.494</td>   <td>0.198</td> <td>-0.1972</td> <td>1.1852</td>  <td>False</td>\n",
       "</tr>\n",
       "<tr>\n",
       "   <td>trt1</td>   <td>trt2</td>    <td>0.865</td>   <td>0.012</td> <td>0.1738</td>  <td>1.5562</td>  <td>True</td> \n",
       "</tr>\n",
       "</table>"
      ],
      "text/latex": [
       "\\begin{center}\n",
       "\\begin{tabular}{ccccccc}\n",
       "\\toprule\n",
       "\\textbf{group1} & \\textbf{group2} & \\textbf{meandiff} & \\textbf{p-adj} & \\textbf{lower} & \\textbf{upper} & \\textbf{reject}  \\\\\n",
       "\\midrule\n",
       "      ctrl      &       trt1      &       -0.371      &     0.3909     &    -1.0622     &     0.3202     &      False       \\\\\n",
       "      ctrl      &       trt2      &       0.494       &     0.198      &    -0.1972     &     1.1852     &      False       \\\\\n",
       "      trt1      &       trt2      &       0.865       &     0.012      &     0.1738     &     1.5562     &       True       \\\\\n",
       "\\bottomrule\n",
       "\\end{tabular}\n",
       "%\\caption{Multiple Comparison of Means - Tukey HSD, FWER=0.05}\n",
       "\\end{center}"
      ],
      "text/plain": [
       "<class 'statsmodels.iolib.table.SimpleTable'>"
      ]
     },
     "execution_count": 172,
     "metadata": {},
     "output_type": "execute_result"
    }
   ],
   "source": [
    "tukey_oneway = pairwise_tukeyhsd(endog = data[\"weight\"], groups = data[\"group\"], alpha=0.05)\n",
    "\n",
    "# Display the results\n",
    "tukey_oneway.summary()\n",
    "\n",
    "#https://www.kaggle.com/code/haseebwar07/hypothesis-testing-and-anova-post-hoc-with-python "
   ]
  },
  {
   "cell_type": "markdown",
   "metadata": {},
   "source": [
    "The TukeyHSD runs pairwise comparisons for each group and will a [p-value](https://www.scribbr.com/statistics/one-way-anova/) with the `p-adj` being used (this is the p-value adjusted for multiple comparisions to reject the rate of Type I error occuring). There was only a p-value < 0.5 which was between `trt1` and `trt2`. \n",
    "\n",
    "\n",
    "**Conclusion**\n",
    "\n",
    "There was a statistically-significant difference in average crop weight according to plnt treatment (F(2)=4.85, p < 0.05). A TukeyHSD post-hoc test revealed significant pairwise differences between treatments 2 and 1, with an average difference of 0.865 (95% CI of 0.173 - 1.556) grams per treatment (p < 0.05)."
   ]
  },
  {
   "cell_type": "markdown",
   "metadata": {},
   "source": [
    "### ANOVA or Multiple t-tests?"
   ]
  },
  {
   "cell_type": "markdown",
   "metadata": {},
   "source": [
    "Suppose a researcher had five different groups of data to compare against each other and the researcher would want to compare which one returned the greatest yield of a particular crop (one of the five groups was a control). The first approach the researcher could do would be a t-test for each pair of groups which would result in 10 different t-tests being performed (5 choose 2). In an alternative approach an ANOVA test could be performed to determine if the mean yield for at least two of the treatments was different with a follow up *post-hoc* multiple comparison test to determine between which groups the differene occured (often Tukeys HSD). \n",
    "\n",
    "In the case of the t-test, every time this is conducted there is a chance of making a [type I error](https://statistics.laerd.com/statistical-guides/one-way-anova-statistical-guide-2.php). A type I error is where the null hypothesis is rejected when it is in fact true and for most hypothesis tests is often set as the α or significance level of the hypothesis test (i.e., the probability of a type I error of a hypothesis test is equal to [α](https://web.ma.utexas.edu/users/mks/statmistakes/errortypes.html)). This is often set to 0.05. \n",
    "\n",
    "For every subsequent t-test, the probability of a type I error occuring increases. \n",
    "\n",
    "\n",
    "If subsequent t-tests are performed k times in this experiment at the α level of 0.05 (one t-test has a type I error rate of 5%) the error rate can be denoted as [below](https://pmc.ncbi.nlm.nih.gov/articles/PMC3916511/pdf/rde-39-74.pdf).\n",
    "$$1-(0.95)^k$$\n",
    "\n",
    "Given that 10 t-tests can be performed, the probability of a type I error occuring for 10 t-tests is approximately 0.40\n",
    "\n",
    "$$1-(0.95)^10 = 0.40 $$\n",
    "\n",
    "\n",
    "For a comparison two or more group means the ANOVA is the appropriate method instead of [multiple t-tests](https://pmc.ncbi.nlm.nih.gov/articles/PMC3916511/pdf/rde-39-74.pdf). \n",
    "\n",
    "For a statistical test the type I error is balanced with the type II error. A type II error is where the null hypothesis is not rejected when in fact the alternate hypothesis is [true](https://web.ma.utexas.edu/users/mks/statmistakes/errortypes.html).\n",
    "\n",
    "In comparison if one ANOVA test was run only rather than the 10 t-tests, then the probability of a type I error is set at the value of the α level, which is usually set at 5%. "
   ]
  },
  {
   "cell_type": "code",
   "execution_count": 173,
   "metadata": {},
   "outputs": [
    {
     "name": "stdout",
     "output_type": "stream",
     "text": [
      "0.4012630607616213\n"
     ]
    }
   ],
   "source": [
    "# type I error for 10 t-tests\n",
    "type_i_error = 1-pow(0.95, 10)\n",
    "print(type_i_error)"
   ]
  },
  {
   "cell_type": "markdown",
   "metadata": {},
   "source": [
    "### Referenes\n",
    "Dobson, A. J., 1983. An Introduction to Statistical Modelling. London: Chapman and Hall.\n",
    "\n",
    "Student, 1908. The probable error of a mean. *Biometrika* **6** (1): 1–25. [DOI: https://doi.org/10.1093/biomet/6.1.1](https://doi.org/10.1093/biomet/6.1.1)."
   ]
  }
 ],
 "metadata": {
  "kernelspec": {
   "display_name": "base",
   "language": "python",
   "name": "python3"
  },
  "language_info": {
   "codemirror_mode": {
    "name": "ipython",
    "version": 3
   },
   "file_extension": ".py",
   "mimetype": "text/x-python",
   "name": "python",
   "nbconvert_exporter": "python",
   "pygments_lexer": "ipython3",
   "version": "3.11.9"
  }
 },
 "nbformat": 4,
 "nbformat_minor": 2
}
